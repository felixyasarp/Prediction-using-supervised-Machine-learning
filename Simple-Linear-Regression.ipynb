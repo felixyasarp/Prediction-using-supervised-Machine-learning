{
 "cells": [
  {
   "cell_type": "markdown",
   "metadata": {},
   "source": [
    "<center>\n",
    "    <img src=\"data:image/jpeg;base64,%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\" width=\"300\" alt=\"cognitiveclass.ai logo\"  />\n",
    "</center>"
   ]
  },
  {
   "cell_type": "markdown",
   "metadata": {
    "button": false,
    "new_sheet": false,
    "run_control": {
     "read_only": false
    }
   },
   "source": [
    "\n",
    "# Simple Linear Regression\n",
    "\n",
    "### Author: Prakash Yasarp\n",
    "#### Student, Goa Institute of Management, 2021\n",
    "\n",
    "#### Task 1- Prediction using Supervised Machine Learning\n",
    "\n",
    "#### Problem Statement\n",
    "#### Predict the score of a student based on the no. of study hours."
   ]
  },
  {
   "cell_type": "markdown",
   "metadata": {
    "button": false,
    "new_sheet": false,
    "run_control": {
     "read_only": false
    }
   },
   "source": [
    "### Importing Needed packages\n"
   ]
  },
  {
   "cell_type": "code",
   "execution_count": 44,
   "metadata": {
    "button": false,
    "new_sheet": false,
    "run_control": {
     "read_only": false
    }
   },
   "outputs": [],
   "source": [
    "import matplotlib.pyplot as plt\n",
    "import pandas as pd\n",
    "import numpy as np\n",
    "%matplotlib inline"
   ]
  },
  {
   "cell_type": "markdown",
   "metadata": {
    "button": false,
    "new_sheet": false,
    "run_control": {
     "read_only": false
    }
   },
   "source": [
    "## Reading the data in\n"
   ]
  },
  {
   "cell_type": "code",
   "execution_count": 68,
   "metadata": {
    "button": false,
    "new_sheet": false,
    "run_control": {
     "read_only": false
    }
   },
   "outputs": [
    {
     "name": "stdout",
     "output_type": "stream",
     "text": [
      "Data imported successfully\n"
     ]
    },
    {
     "data": {
      "text/html": [
       "<div>\n",
       "<style scoped>\n",
       "    .dataframe tbody tr th:only-of-type {\n",
       "        vertical-align: middle;\n",
       "    }\n",
       "\n",
       "    .dataframe tbody tr th {\n",
       "        vertical-align: top;\n",
       "    }\n",
       "\n",
       "    .dataframe thead th {\n",
       "        text-align: right;\n",
       "    }\n",
       "</style>\n",
       "<table border=\"1\" class=\"dataframe\">\n",
       "  <thead>\n",
       "    <tr style=\"text-align: right;\">\n",
       "      <th></th>\n",
       "      <th>Hours</th>\n",
       "      <th>Scores</th>\n",
       "    </tr>\n",
       "  </thead>\n",
       "  <tbody>\n",
       "    <tr>\n",
       "      <th>0</th>\n",
       "      <td>2.5</td>\n",
       "      <td>21</td>\n",
       "    </tr>\n",
       "    <tr>\n",
       "      <th>1</th>\n",
       "      <td>5.1</td>\n",
       "      <td>47</td>\n",
       "    </tr>\n",
       "    <tr>\n",
       "      <th>2</th>\n",
       "      <td>3.2</td>\n",
       "      <td>27</td>\n",
       "    </tr>\n",
       "    <tr>\n",
       "      <th>3</th>\n",
       "      <td>8.5</td>\n",
       "      <td>75</td>\n",
       "    </tr>\n",
       "    <tr>\n",
       "      <th>4</th>\n",
       "      <td>3.5</td>\n",
       "      <td>30</td>\n",
       "    </tr>\n",
       "    <tr>\n",
       "      <th>5</th>\n",
       "      <td>1.5</td>\n",
       "      <td>20</td>\n",
       "    </tr>\n",
       "    <tr>\n",
       "      <th>6</th>\n",
       "      <td>9.2</td>\n",
       "      <td>88</td>\n",
       "    </tr>\n",
       "    <tr>\n",
       "      <th>7</th>\n",
       "      <td>5.5</td>\n",
       "      <td>60</td>\n",
       "    </tr>\n",
       "    <tr>\n",
       "      <th>8</th>\n",
       "      <td>8.3</td>\n",
       "      <td>81</td>\n",
       "    </tr>\n",
       "    <tr>\n",
       "      <th>9</th>\n",
       "      <td>2.7</td>\n",
       "      <td>25</td>\n",
       "    </tr>\n",
       "  </tbody>\n",
       "</table>\n",
       "</div>"
      ],
      "text/plain": [
       "   Hours  Scores\n",
       "0    2.5      21\n",
       "1    5.1      47\n",
       "2    3.2      27\n",
       "3    8.5      75\n",
       "4    3.5      30\n",
       "5    1.5      20\n",
       "6    9.2      88\n",
       "7    5.5      60\n",
       "8    8.3      81\n",
       "9    2.7      25"
      ]
     },
     "execution_count": 68,
     "metadata": {},
     "output_type": "execute_result"
    }
   ],
   "source": [
    "url = \"https://raw.githubusercontent.com/AdiPersonalWorks/Random/master/student_scores%20-%20student_scores.csv\"\n",
    "df = pd.read_csv(url)\n",
    "print(\"Data imported successfully\")\n",
    "\n",
    "df.head(10)"
   ]
  },
  {
   "cell_type": "markdown",
   "metadata": {
    "button": false,
    "new_sheet": false,
    "run_control": {
     "read_only": false
    }
   },
   "source": [
    "### Data Exploration"
   ]
  },
  {
   "cell_type": "code",
   "execution_count": 69,
   "metadata": {
    "button": false,
    "new_sheet": false,
    "run_control": {
     "read_only": false
    }
   },
   "outputs": [
    {
     "data": {
      "text/html": [
       "<div>\n",
       "<style scoped>\n",
       "    .dataframe tbody tr th:only-of-type {\n",
       "        vertical-align: middle;\n",
       "    }\n",
       "\n",
       "    .dataframe tbody tr th {\n",
       "        vertical-align: top;\n",
       "    }\n",
       "\n",
       "    .dataframe thead th {\n",
       "        text-align: right;\n",
       "    }\n",
       "</style>\n",
       "<table border=\"1\" class=\"dataframe\">\n",
       "  <thead>\n",
       "    <tr style=\"text-align: right;\">\n",
       "      <th></th>\n",
       "      <th>Hours</th>\n",
       "      <th>Scores</th>\n",
       "    </tr>\n",
       "  </thead>\n",
       "  <tbody>\n",
       "    <tr>\n",
       "      <th>count</th>\n",
       "      <td>25.000000</td>\n",
       "      <td>25.000000</td>\n",
       "    </tr>\n",
       "    <tr>\n",
       "      <th>mean</th>\n",
       "      <td>5.012000</td>\n",
       "      <td>51.480000</td>\n",
       "    </tr>\n",
       "    <tr>\n",
       "      <th>std</th>\n",
       "      <td>2.525094</td>\n",
       "      <td>25.286887</td>\n",
       "    </tr>\n",
       "    <tr>\n",
       "      <th>min</th>\n",
       "      <td>1.100000</td>\n",
       "      <td>17.000000</td>\n",
       "    </tr>\n",
       "    <tr>\n",
       "      <th>25%</th>\n",
       "      <td>2.700000</td>\n",
       "      <td>30.000000</td>\n",
       "    </tr>\n",
       "    <tr>\n",
       "      <th>50%</th>\n",
       "      <td>4.800000</td>\n",
       "      <td>47.000000</td>\n",
       "    </tr>\n",
       "    <tr>\n",
       "      <th>75%</th>\n",
       "      <td>7.400000</td>\n",
       "      <td>75.000000</td>\n",
       "    </tr>\n",
       "    <tr>\n",
       "      <th>max</th>\n",
       "      <td>9.200000</td>\n",
       "      <td>95.000000</td>\n",
       "    </tr>\n",
       "  </tbody>\n",
       "</table>\n",
       "</div>"
      ],
      "text/plain": [
       "           Hours     Scores\n",
       "count  25.000000  25.000000\n",
       "mean    5.012000  51.480000\n",
       "std     2.525094  25.286887\n",
       "min     1.100000  17.000000\n",
       "25%     2.700000  30.000000\n",
       "50%     4.800000  47.000000\n",
       "75%     7.400000  75.000000\n",
       "max     9.200000  95.000000"
      ]
     },
     "execution_count": 69,
     "metadata": {},
     "output_type": "execute_result"
    }
   ],
   "source": [
    "# summarize the data\n",
    "df.describe()"
   ]
  },
  {
   "cell_type": "code",
   "execution_count": 70,
   "metadata": {
    "button": false,
    "new_sheet": false,
    "run_control": {
     "read_only": false
    }
   },
   "outputs": [
    {
     "data": {
      "image/png": "[encoded data removed]",
      "text/plain": [
       "<Figure size 432x288 with 1 Axes>"
      ]
     },
     "metadata": {
      "needs_background": "light"
     },
     "output_type": "display_data"
    }
   ],
   "source": [
    "plt.scatter(df.Hours, df.Scores,  color='blue')\n",
    "plt.xlabel(\"Hours\")\n",
    "plt.ylabel(\"Scores\")\n",
    "plt.show()"
   ]
  },
  {
   "cell_type": "code",
   "execution_count": 71,
   "metadata": {},
   "outputs": [
    {
     "data": {
      "text/html": [
       "<div>\n",
       "<style scoped>\n",
       "    .dataframe tbody tr th:only-of-type {\n",
       "        vertical-align: middle;\n",
       "    }\n",
       "\n",
       "    .dataframe tbody tr th {\n",
       "        vertical-align: top;\n",
       "    }\n",
       "\n",
       "    .dataframe thead th {\n",
       "        text-align: right;\n",
       "    }\n",
       "</style>\n",
       "<table border=\"1\" class=\"dataframe\">\n",
       "  <thead>\n",
       "    <tr style=\"text-align: right;\">\n",
       "      <th></th>\n",
       "      <th>Hours</th>\n",
       "      <th>Scores</th>\n",
       "    </tr>\n",
       "  </thead>\n",
       "  <tbody>\n",
       "    <tr>\n",
       "      <th>Hours</th>\n",
       "      <td>1.000000</td>\n",
       "      <td>0.976191</td>\n",
       "    </tr>\n",
       "    <tr>\n",
       "      <th>Scores</th>\n",
       "      <td>0.976191</td>\n",
       "      <td>1.000000</td>\n",
       "    </tr>\n",
       "  </tbody>\n",
       "</table>\n",
       "</div>"
      ],
      "text/plain": [
       "           Hours    Scores\n",
       "Hours   1.000000  0.976191\n",
       "Scores  0.976191  1.000000"
      ]
     },
     "execution_count": 71,
     "metadata": {},
     "output_type": "execute_result"
    }
   ],
   "source": [
    "df.corr()"
   ]
  },
  {
   "cell_type": "markdown",
   "metadata": {
    "button": false,
    "new_sheet": false,
    "run_control": {
     "read_only": false
    }
   },
   "source": [
    "#### Creating train and test dataset\n",
    "\n",
    "\n",
    "\n"
   ]
  },
  {
   "cell_type": "code",
   "execution_count": 72,
   "metadata": {},
   "outputs": [],
   "source": [
    "X = df.iloc[:, :-1].values  \n",
    "Y = df.iloc[:, 1].values  "
   ]
  },
  {
   "cell_type": "code",
   "execution_count": 50,
   "metadata": {
    "button": false,
    "new_sheet": false,
    "run_control": {
     "read_only": false
    }
   },
   "outputs": [],
   "source": [
    "from sklearn.model_selection import train_test_split  \n",
    "X_train, X_test, y_train, y_test = train_test_split(X, Y, \n",
    "                            test_size=0.2, random_state=0) "
   ]
  },
  {
   "cell_type": "markdown",
   "metadata": {
    "button": false,
    "new_sheet": false,
    "run_control": {
     "read_only": false
    }
   },
   "source": [
    "### Simple Regression Model"
   ]
  },
  {
   "cell_type": "markdown",
   "metadata": {
    "button": false,
    "new_sheet": false,
    "run_control": {
     "read_only": false
    }
   },
   "source": [
    "#### Train data distribution\n"
   ]
  },
  {
   "cell_type": "code",
   "execution_count": 73,
   "metadata": {
    "button": false,
    "new_sheet": false,
    "run_control": {
     "read_only": false
    }
   },
   "outputs": [
    {
     "data": {
      "image/png": "[encoded data removed]",
      "text/plain": [
       "<Figure size 432x288 with 1 Axes>"
      ]
     },
     "metadata": {
      "needs_background": "light"
     },
     "output_type": "display_data"
    }
   ],
   "source": [
    "plt.scatter(X_train, y_train,  color='blue')\n",
    "plt.xlabel(\"Hours\")\n",
    "plt.ylabel(\"Scores\")\n",
    "plt.show()"
   ]
  },
  {
   "cell_type": "markdown",
   "metadata": {
    "button": false,
    "new_sheet": false,
    "run_control": {
     "read_only": false
    }
   },
   "source": [
    "#### Modeling\n",
    "\n",
    "Using sklearn package to model and train the data\n"
   ]
  },
  {
   "cell_type": "code",
   "execution_count": 74,
   "metadata": {
    "button": false,
    "new_sheet": false,
    "run_control": {
     "read_only": false
    }
   },
   "outputs": [
    {
     "name": "stdout",
     "output_type": "stream",
     "text": [
      "Training complete.\n",
      "Coefficients:  [[10.19940829]]\n",
      "Intercept:  [1.01555276]\n"
     ]
    }
   ],
   "source": [
    "from sklearn.linear_model import LinearRegression  \n",
    "regressor = LinearRegression()  \n",
    "regressor.fit(X_train, y_train) \n",
    "\n",
    "print(\"Training complete.\")\n",
    "# The coefficients\n",
    "print ('Coefficients: ', regr.coef_)\n",
    "print ('Intercept: ',regr.intercept_)"
   ]
  },
  {
   "cell_type": "markdown",
   "metadata": {
    "button": false,
    "new_sheet": false,
    "run_control": {
     "read_only": false
    }
   },
   "source": [
    "#### Ploting outputs\n"
   ]
  },
  {
   "cell_type": "code",
   "execution_count": 75,
   "metadata": {
    "button": false,
    "new_sheet": false,
    "run_control": {
     "read_only": false
    }
   },
   "outputs": [
    {
     "data": {
      "image/png": "[encoded data removed]",
      "text/plain": [
       "<Figure size 432x288 with 1 Axes>"
      ]
     },
     "metadata": {
      "needs_background": "light"
     },
     "output_type": "display_data"
    }
   ],
   "source": [
    "# Plotting the regression line\n",
    "line = regressor.coef_*X+regressor.intercept_\n",
    "\n",
    "# Plotting for the test data\n",
    "plt.scatter(X, Y)\n",
    "plt.plot(X, line);\n",
    "\n",
    "plt.xlabel(\"Hours\")\n",
    "plt.ylabel(\"Scores\")\n",
    "plt.show()"
   ]
  },
  {
   "cell_type": "markdown",
   "metadata": {},
   "source": [
    "#### Making Predictions"
   ]
  },
  {
   "cell_type": "code",
   "execution_count": 76,
   "metadata": {},
   "outputs": [
    {
     "name": "stdout",
     "output_type": "stream",
     "text": [
      "[[1.5]\n",
      " [3.2]\n",
      " [7.4]\n",
      " [2.5]\n",
      " [5.9]]\n"
     ]
    }
   ],
   "source": [
    "print(X_test) # Testing data - In Hours\n",
    "y_pred = regressor.predict(X_test) # Predicting the scores"
   ]
  },
  {
   "cell_type": "code",
   "execution_count": 57,
   "metadata": {},
   "outputs": [
    {
     "data": {
      "text/html": [
       "<div>\n",
       "<style scoped>\n",
       "    .dataframe tbody tr th:only-of-type {\n",
       "        vertical-align: middle;\n",
       "    }\n",
       "\n",
       "    .dataframe tbody tr th {\n",
       "        vertical-align: top;\n",
       "    }\n",
       "\n",
       "    .dataframe thead th {\n",
       "        text-align: right;\n",
       "    }\n",
       "</style>\n",
       "<table border=\"1\" class=\"dataframe\">\n",
       "  <thead>\n",
       "    <tr style=\"text-align: right;\">\n",
       "      <th></th>\n",
       "      <th>Actual</th>\n",
       "      <th>Predicted</th>\n",
       "    </tr>\n",
       "  </thead>\n",
       "  <tbody>\n",
       "    <tr>\n",
       "      <th>0</th>\n",
       "      <td>20</td>\n",
       "      <td>16.884145</td>\n",
       "    </tr>\n",
       "    <tr>\n",
       "      <th>1</th>\n",
       "      <td>27</td>\n",
       "      <td>33.732261</td>\n",
       "    </tr>\n",
       "    <tr>\n",
       "      <th>2</th>\n",
       "      <td>69</td>\n",
       "      <td>75.357018</td>\n",
       "    </tr>\n",
       "    <tr>\n",
       "      <th>3</th>\n",
       "      <td>30</td>\n",
       "      <td>26.794801</td>\n",
       "    </tr>\n",
       "    <tr>\n",
       "      <th>4</th>\n",
       "      <td>62</td>\n",
       "      <td>60.491033</td>\n",
       "    </tr>\n",
       "  </tbody>\n",
       "</table>\n",
       "</div>"
      ],
      "text/plain": [
       "   Actual  Predicted\n",
       "0      20  16.884145\n",
       "1      27  33.732261\n",
       "2      69  75.357018\n",
       "3      30  26.794801\n",
       "4      62  60.491033"
      ]
     },
     "execution_count": 57,
     "metadata": {},
     "output_type": "execute_result"
    }
   ],
   "source": [
    "# Comparing Actual vs Predicted\n",
    "dfnew = pd.DataFrame({'Actual': y_test, 'Predicted': y_pred})  \n",
    "dfnew"
   ]
  },
  {
   "cell_type": "code",
   "execution_count": 77,
   "metadata": {},
   "outputs": [
    {
     "name": "stdout",
     "output_type": "stream",
     "text": [
      "No of Hours = [[9.25]]\n",
      "Predicted Score = 93.69173248737539\n"
     ]
    }
   ],
   "source": [
    "hours = np.array([[9.25]])\n",
    "own_pred = regressor.predict(hours)\n",
    "print(\"No of Hours = {}\".format(hours))\n",
    "print(\"Predicted Score = {}\".format(own_pred[0]))"
   ]
  },
  {
   "cell_type": "markdown",
   "metadata": {
    "button": false,
    "new_sheet": false,
    "run_control": {
     "read_only": false
    }
   },
   "source": [
    "#### Evaluation"
   ]
  },
  {
   "cell_type": "code",
   "execution_count": 78,
   "metadata": {
    "button": false,
    "new_sheet": false,
    "run_control": {
     "read_only": false
    },
    "scrolled": true
   },
   "outputs": [
    {
     "name": "stdout",
     "output_type": "stream",
     "text": [
      "Mean Absolute Error: 4.183859899002982\n"
     ]
    }
   ],
   "source": [
    "from sklearn import metrics  \n",
    "print('Mean Absolute Error:', \n",
    "      metrics.mean_absolute_error(y_test, y_pred)) "
   ]
  },
  {
   "cell_type": "code",
   "execution_count": null,
   "metadata": {},
   "outputs": [],
   "source": []
  }
 ],
 "metadata": {
  "kernelspec": {
   "display_name": "Python 3",
   "language": "python",
   "name": "python3"
  },
  "language_info": {
   "codemirror_mode": {
    "name": "ipython",
    "version": 3
   },
   "file_extension": ".py",
   "mimetype": "text/x-python",
   "name": "python",
   "nbconvert_exporter": "python",
   "pygments_lexer": "ipython3",
   "version": "3.8.8"
  },
  "widgets": {
   "state": {},
   "version": "1.1.2"
  }
 },
 "nbformat": 4,
 "nbformat_minor": 2
}
